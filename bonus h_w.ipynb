{
 "cells": [
  {
   "cell_type": "code",
   "execution_count": 150,
   "metadata": {},
   "outputs": [],
   "source": [
    "#import dependencies \n",
    "import pandas as pd\n",
    "import psycopg2\n",
    "import sqlalchemy\n",
    "import matplotlib.pyplot as plt\n",
    "import numpy as np\n",
    "from sqlalchemy import create_engine\n",
    "from functools import reduce\n",
    "import config"
   ]
  },
  {
   "cell_type": "code",
   "execution_count": 143,
   "metadata": {},
   "outputs": [],
   "source": [
    "#create engine and execute the query- fetch rows from the tables \n",
    "#password is blanked out for protection-must put in your own password\n",
    "conn = psycopg2.connect(\"dbname=homework user=postgres password=*********** host=localhost\")\n",
    "cur = conn.cursor()\n",
    "cur.execute(\"Select * from salaries  \")\n",
    "rows = cur.fetchall()\n",
    "#rows"
   ]
  },
  {
   "cell_type": "code",
   "execution_count": 144,
   "metadata": {},
   "outputs": [],
   "source": [
    "#pull in salaries table from DB\n",
    "salaries_df = pd.read_sql_query('''Select * from salaries;''', conn)"
   ]
  },
  {
   "cell_type": "code",
   "execution_count": 145,
   "metadata": {},
   "outputs": [],
   "source": [
    "#pull down employees table \n",
    "employees_df = pd.read_sql_query('''Select * from employees; ''', conn)"
   ]
  },
  {
   "cell_type": "code",
   "execution_count": 146,
   "metadata": {},
   "outputs": [],
   "source": [
    "#pull down titles table \n",
    "titles_df = pd.read_sql_query('''Select * from titles; ''', conn)"
   ]
  },
  {
   "cell_type": "code",
   "execution_count": 147,
   "metadata": {},
   "outputs": [],
   "source": [
    "#merge all three tables on employee number\n",
    "dfs = [salaries_df, employees_df, titles_df]\n",
    "\n",
    "df_final = reduce(lambda left,right: pd.merge(left,right,on='emp_no'), dfs)"
   ]
  },
  {
   "cell_type": "code",
   "execution_count": null,
   "metadata": {},
   "outputs": [],
   "source": [
    "#view merged table\n",
    "df_final"
   ]
  },
  {
   "cell_type": "code",
   "execution_count": 117,
   "metadata": {},
   "outputs": [],
   "source": [
    "#remove commas and $ from the salary column and change to float because it was a string\n",
    "df_nocommas = df_final[df_final.columns[:2]].replace('[\\$,]', '', regex=True).astype(float)\n",
    "\n",
    "\n",
    "#set these columns to a varibale/list in order to create smaller data frame \n",
    "titles = df_final.title.tolist()\n",
    "employee_no = df_nocommas.emp_no.tolist()\n",
    "salary_amount = df_nocommas.salary.tolist()\n",
    "\n",
    "\n",
    "\n",
    "\n"
   ]
  },
  {
   "cell_type": "code",
   "execution_count": 118,
   "metadata": {},
   "outputs": [
    {
     "data": {
      "text/html": [
       "<div>\n",
       "<style scoped>\n",
       "    .dataframe tbody tr th:only-of-type {\n",
       "        vertical-align: middle;\n",
       "    }\n",
       "\n",
       "    .dataframe tbody tr th {\n",
       "        vertical-align: top;\n",
       "    }\n",
       "\n",
       "    .dataframe thead th {\n",
       "        text-align: right;\n",
       "    }\n",
       "</style>\n",
       "<table border=\"1\" class=\"dataframe\">\n",
       "  <thead>\n",
       "    <tr style=\"text-align: right;\">\n",
       "      <th></th>\n",
       "      <th>emp_no</th>\n",
       "      <th>salary</th>\n",
       "      <th>titles</th>\n",
       "    </tr>\n",
       "  </thead>\n",
       "  <tbody>\n",
       "    <tr>\n",
       "      <th>0</th>\n",
       "      <td>10001.0</td>\n",
       "      <td>60117.0</td>\n",
       "      <td>Senior Engineer</td>\n",
       "    </tr>\n",
       "    <tr>\n",
       "      <th>1</th>\n",
       "      <td>10002.0</td>\n",
       "      <td>65828.0</td>\n",
       "      <td>Staff</td>\n",
       "    </tr>\n",
       "    <tr>\n",
       "      <th>2</th>\n",
       "      <td>10003.0</td>\n",
       "      <td>40006.0</td>\n",
       "      <td>Senior Engineer</td>\n",
       "    </tr>\n",
       "    <tr>\n",
       "      <th>3</th>\n",
       "      <td>10004.0</td>\n",
       "      <td>40054.0</td>\n",
       "      <td>Engineer</td>\n",
       "    </tr>\n",
       "    <tr>\n",
       "      <th>4</th>\n",
       "      <td>10004.0</td>\n",
       "      <td>40054.0</td>\n",
       "      <td>Senior Engineer</td>\n",
       "    </tr>\n",
       "  </tbody>\n",
       "</table>\n",
       "</div>"
      ],
      "text/plain": [
       "    emp_no   salary           titles\n",
       "0  10001.0  60117.0  Senior Engineer\n",
       "1  10002.0  65828.0            Staff\n",
       "2  10003.0  40006.0  Senior Engineer\n",
       "3  10004.0  40054.0         Engineer\n",
       "4  10004.0  40054.0  Senior Engineer"
      ]
     },
     "execution_count": 118,
     "metadata": {},
     "output_type": "execute_result"
    }
   ],
   "source": [
    "#add titles list to the previous dataframe and view\n",
    "df_nocommas['titles'] = titles\n",
    "df_nocommas.head()\n",
    "\n"
   ]
  },
  {
   "cell_type": "code",
   "execution_count": 148,
   "metadata": {},
   "outputs": [],
   "source": [
    "#perform groupby on titles and find the mean salary\n",
    "average_salary = df_nocommas.groupby('titles', as_index=True)['salary'].mean().round(2)"
   ]
  },
  {
   "cell_type": "code",
   "execution_count": 149,
   "metadata": {},
   "outputs": [
    {
     "name": "stdout",
     "output_type": "stream",
     "text": [
      "titles\n",
      "Assistant Engineer    48493.20\n",
      "Engineer              48539.78\n",
      "Manager               51531.04\n",
      "Senior Engineer       48506.75\n",
      "Senior Staff          58503.29\n",
      "Staff                 58465.27\n",
      "Technique Leader      48580.51\n",
      "Name: salary, dtype: float64\n"
     ]
    }
   ],
   "source": [
    "print(average_salary)\n"
   ]
  },
  {
   "cell_type": "code",
   "execution_count": 130,
   "metadata": {},
   "outputs": [],
   "source": [
    "#Set each value to a varibale \n",
    "Assistant_Engineer = 48493.20\n",
    "Engineer = 48539.78\n",
    "Manager = 51531.04\n",
    "Senior_Engineer = 48506.75\n",
    "Senior_Staff =  58503.28\n",
    "Staff = 58465.27\n",
    "Technique_Leader =  48580.50"
   ]
  },
  {
   "cell_type": "code",
   "execution_count": 131,
   "metadata": {},
   "outputs": [],
   "source": [
    "#create list of salaries\n",
    "salaries1 = [Assistant_Engineer, Engineer, Manager, Senior_Engineer, Senior_Staff, Staff, Technique_Leader ]\n",
    "x_axis = np.arange(len(salaries1))"
   ]
  },
  {
   "cell_type": "code",
   "execution_count": 136,
   "metadata": {},
   "outputs": [
    {
     "data": {
      "text/plain": [
       "Text(0, 0.5, 'Salary in Dollars')"
      ]
     },
     "execution_count": 136,
     "metadata": {},
     "output_type": "execute_result"
    },
    {
     "data": {
      "image/png": "[encoded data removed]",
      "text/plain": [
       "<Figure size 432x288 with 1 Axes>"
      ]
     },
     "metadata": {
      "needs_background": "light"
     },
     "output_type": "display_data"
    }
   ],
   "source": [
    "#plot the chart\n",
    "\n",
    "tick_locations = [value for value in x_axis]\n",
    "plt.xticks(tick_locations, [\"Assistant_Engineer\", \"Engineer\", \"Manager\", \"Senior_Engineer\", \"Senior_Staff\", \"Staff\", \"Technique_Leader\" ], rotation='vertical')\n",
    "\n",
    "plt.bar(x_axis, salaries1, color='b', alpha=0.5, align=\"center\")\n",
    "\n",
    "plt.title(\"Title and Salary\")\n",
    "plt.xlabel(\"Title\")\n",
    "plt.ylabel(\"Salary in Dollars\")\n"
   ]
  },
  {
   "cell_type": "code",
   "execution_count": null,
   "metadata": {},
   "outputs": [],
   "source": []
  },
  {
   "cell_type": "code",
   "execution_count": null,
   "metadata": {},
   "outputs": [],
   "source": []
  },
  {
   "cell_type": "code",
   "execution_count": null,
   "metadata": {},
   "outputs": [],
   "source": []
  },
  {
   "cell_type": "code",
   "execution_count": null,
   "metadata": {},
   "outputs": [],
   "source": []
  },
  {
   "cell_type": "code",
   "execution_count": null,
   "metadata": {},
   "outputs": [],
   "source": []
  },
  {
   "cell_type": "code",
   "execution_count": null,
   "metadata": {},
   "outputs": [],
   "source": []
  },
  {
   "cell_type": "code",
   "execution_count": null,
   "metadata": {},
   "outputs": [],
   "source": []
  },
  {
   "cell_type": "code",
   "execution_count": null,
   "metadata": {},
   "outputs": [],
   "source": []
  },
  {
   "cell_type": "code",
   "execution_count": null,
   "metadata": {},
   "outputs": [],
   "source": []
  },
  {
   "cell_type": "code",
   "execution_count": null,
   "metadata": {},
   "outputs": [],
   "source": []
  },
  {
   "cell_type": "code",
   "execution_count": null,
   "metadata": {},
   "outputs": [],
   "source": []
  }
 ],
 "metadata": {
  "kernelspec": {
   "display_name": "Python 3",
   "language": "python",
   "name": "python3"
  },
  "language_info": {
   "codemirror_mode": {
    "name": "ipython",
    "version": 3
   },
   "file_extension": ".py",
   "mimetype": "text/x-python",
   "name": "python",
   "nbconvert_exporter": "python",
   "pygments_lexer": "ipython3",
   "version": "3.7.3"
  }
 },
 "nbformat": 4,
 "nbformat_minor": 2
}
